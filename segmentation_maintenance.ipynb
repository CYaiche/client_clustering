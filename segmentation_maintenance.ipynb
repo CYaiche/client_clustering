{
 "cells": [
  {
   "attachments": {},
   "cell_type": "markdown",
   "metadata": {},
   "source": [
    "# Olist project : customer segmentation  \n",
    "## Recommendation on frequency updates of the segmentation "
   ]
  },
  {
   "attachments": {},
   "cell_type": "markdown",
   "metadata": {},
   "source": [
    "The idea is to propose to the marketing team a maintenance contract. For that we need to know on which time bases the segmentation needs to be updated. We will base this study on the ARI (adjusted Rand index), which measure the degree of agreement between two data partitions. \n",
    "We will study the evolution of the segmentation based of the data from November 2017 to August 2018.\n",
    "\n",
    "We are considering the pre-cleaned database (no missing values here):\n",
    "- first we conduct a clustering with K-means at taking into account only orders before November 2017. This is our initial clustering. \n",
    "- secondly with update the database on a 15 days basis, taking into account the new orders made by costumers. We apply all the feature engineering, updating for example the mean order monetary value. We apply exactly the same process at for the initial clustering : outliers drop, log and box-cox transforms, PCA. \n",
    "- We compute the ARI between the initial clustering and the new clustering segmentation. \n",
    "\n",
    "The **maintenance time** is the time delta for the **ARI to drop under 0.7**. \n"
   ]
  },
  {
   "cell_type": "code",
   "execution_count": 1,
   "metadata": {},
   "outputs": [],
   "source": [
    "%load_ext pycodestyle_magic\n",
    "%pycodestyle_on\n",
    "\n",
    "import  pandas as pd \n",
    "from pandas.core.common import SettingWithCopyWarning\n",
    "import warnings\n",
    "warnings.simplefilter(action=\"ignore\", category=SettingWithCopyWarning)\n",
    "import matplotlib.pyplot as plt\n",
    "from sklearn.decomposition import PCA\n",
    "import numpy as np \n",
    "\n",
    "from sklearn.cluster import KMeans\n",
    "from sklearn.preprocessing import MinMaxScaler\n",
    "from sklearn import metrics\n",
    "from sklearn.metrics.cluster import adjusted_rand_score\n",
    "from scipy import stats\n",
    "from geopy import distance\n"
   ]
  },
  {
   "cell_type": "code",
   "execution_count": 2,
   "metadata": {},
   "outputs": [
    {
     "data": {
      "text/plain": [
       "Index(['order_id', 'customer_id', 'order_status', 'order_item_id',\n",
       "       'product_id', 'seller_id', 'shipping_limit_date', 'price',\n",
       "       'freight_value', 'payment_sequential', 'payment_type',\n",
       "       'payment_installments', 'payment_value', 'review_id', 'review_score',\n",
       "       'review_creation_date', 'review_answer_timestamp',\n",
       "       'product_category_name', 'product_name_lenght',\n",
       "       'product_description_lenght', 'product_photos_qty', 'product_weight_g',\n",
       "       'product_length_cm', 'product_height_cm', 'product_width_cm',\n",
       "       'customer_unique_id', 'customer_zip_code_prefix', 'customer_city',\n",
       "       'customer_state', 'seller_zip_code_prefix', 'seller_city',\n",
       "       'seller_state', 'date_purchase', 'order_approved_at_dt',\n",
       "       'order_delivered_carrier_date_dt', 'order_delivered_customer_date_dt',\n",
       "       'order_estimated_delivery_date_dt'],\n",
       "      dtype='object')"
      ]
     },
     "execution_count": 2,
     "metadata": {},
     "output_type": "execute_result"
    }
   ],
   "source": [
    "cData = pd.read_csv(\"cData.csv\")\n",
    "customersLocation = pd.read_csv(\"customersLocation.csv\")\n",
    "cData.columns"
   ]
  },
  {
   "cell_type": "code",
   "execution_count": 3,
   "metadata": {},
   "outputs": [
    {
     "data": {
      "text/plain": [
       "Index(['city', 'lat', 'lng'], dtype='object')"
      ]
     },
     "execution_count": 3,
     "metadata": {},
     "output_type": "execute_result"
    }
   ],
   "source": [
    "customersLocation.columns"
   ]
  },
  {
   "attachments": {},
   "cell_type": "markdown",
   "metadata": {},
   "source": [
    "# Data preprocessing"
   ]
  },
  {
   "cell_type": "code",
   "execution_count": 4,
   "metadata": {},
   "outputs": [],
   "source": [
    "\n",
    "\n",
    "def datetime_to_float(d, date0):\n",
    "\n",
    "    # convert to Unix timestamp (in seconds)\n",
    "    timestamp = (d - date0) / np.timedelta64(1, \"s\")\n",
    "\n",
    "    # convert to float\n",
    "    float_timestamp = float(timestamp)\n",
    "\n",
    "    return float_timestamp\n",
    "\n",
    "\n",
    "def generateNewVariables(rf, customersLocation, date0):\n",
    "    # RFM\n",
    "    orderTimePerClient = \\\n",
    "        rf.groupby(\"customer_unique_id\")[\"date_purchase\"].unique()\n",
    "    for clientID in orderTimePerClient.index:\n",
    "        lastOrderTime = np.max(orderTimePerClient[clientID])\n",
    "        rf.loc[\n",
    "            rf[\"customer_unique_id\"] == clientID, \"recency\"\n",
    "        ] = datetime_to_float(lastOrderTime, date0)\n",
    "\n",
    "    numberOfItems = round(rf.groupby(\"customer_unique_id\")[\"order_id\"]\n",
    "                          .count() / rf\n",
    "                          .groupby(\"customer_unique_id\")[\"order_id\"]\n",
    "                          .nunique())\n",
    "    for clientID in numberOfItems.index:\n",
    "        rf.loc[\n",
    "            rf[\"customer_unique_id\"] == clientID, \"frequency\"\n",
    "        ] = numberOfItems[clientID]\n",
    "\n",
    "    MontantPerClient = rf.groupby(\"customer_unique_id\")[\"price\"].sum()\n",
    "    for clientID in MontantPerClient.index:\n",
    "        rf.loc[\n",
    "\n",
    "            rf[\"customer_unique_id\"] == clientID, \"montant\"\n",
    "        ] = MontantPerClient[clientID]\n",
    "    # costumer_dist_from_capital\n",
    "\n",
    "    sao_paulo_lat = (customersLocation\n",
    "                     [customersLocation[\"city\"] == 'sao paulo']\n",
    "                     .lat.values[0])\n",
    "    sao_paulo_lng = (customersLocation\n",
    "                     [customersLocation[\"city\"] == 'sao paulo']\n",
    "                     .lng.values[0])\n",
    "\n",
    "    dist = []\n",
    "    for index, row in customersLocation.iterrows():\n",
    "        distance_km = (distance.distance(\n",
    "            (sao_paulo_lat, sao_paulo_lng),\n",
    "            (row['lat'], row['lng']))\n",
    "                    .km)\n",
    "        dist.append(distance_km)\n",
    "    customersLocation['DistFromCapital'] = dist\n",
    "\n",
    "    for index, row in customersLocation.iterrows():\n",
    "        rf.loc[rf['customer_city'] == row['city'],\n",
    "               \"costumer_dist_from_capital\"] = \\\n",
    "                row[\"DistFromCapital\"]\n",
    "\n",
    "    customersLocation['DistFromCapital'].mean()\n",
    "    rf.loc[rf[\"costumer_dist_from_capital\"].isna(),\n",
    "           \"costumer_dist_from_capital\"] = \\\n",
    "        customersLocation['DistFromCapital'].mean()\n",
    "    return rf"
   ]
  },
  {
   "cell_type": "code",
   "execution_count": 5,
   "metadata": {},
   "outputs": [],
   "source": [
    "\n",
    "def drop_stdOutliers_outliers(column, dataFrame, N=3):\n",
    "    lower_range = np.mean(column) - N*np.std(column)\n",
    "    upper_range = np.mean(column) + N*np.std(column)\n",
    "    mask = (column < lower_range) | (column > upper_range)\n",
    "    dataFrame.drop(column.loc[mask].index, inplace=True)\n",
    "\n",
    "\n",
    "# Remove outliers\n",
    "def drop_interquartile_outliers(column, dataFrame):\n",
    "    Q3 = np.quantile(column, 0.75)\n",
    "    Q1 = np.quantile(column, 0.25)\n",
    "    IQR = Q3 - Q1\n",
    "    lower_range = Q1 - 1.5 * IQR\n",
    "    upper_range = Q3 + 1.5 * IQR\n",
    "    mask = (column < lower_range) | (column > upper_range)\n",
    "    dataFrame.drop(column.loc[mask].index, inplace=True)"
   ]
  },
  {
   "cell_type": "code",
   "execution_count": 8,
   "metadata": {},
   "outputs": [],
   "source": [
    "%pycodestyle_off\n",
    "def preprocessing(rf, RFM, col):  # include PCA and feature engineering..\n",
    "\n",
    "    # outliers\n",
    "    drop_stdOutliers_outliers(rf[\"frequency\"], rf)\n",
    "    drop_stdOutliers_outliers(rf[\"montant\"], rf)\n",
    "\n",
    "    drop_interquartile_outliers(rf[\"costumer_dist_from_capital\"],\n",
    "                                rf)\n",
    "    drop_interquartile_outliers(rf[\"review_score\"], rf)\n",
    "    drop_interquartile_outliers(rf[\"payment_installments\"], rf)\n",
    "\n",
    "    # feature engineering\n",
    "    new_RFM = [\"recency_bx\", \"frequency_lg\", \"montant_bx\"]\n",
    "\n",
    "    rf.loc[:, \"frequency_lg\"] = np.log(rf.loc[:, \"frequency\"])\n",
    "    rf.loc[:, \"recency_bx\"], fitted_lambda = \\\n",
    "        stats.boxcox(rf.loc[:, \"recency\"])\n",
    "    rf.loc[:, \"montant_bx\"], fitted_lambda = \\\n",
    "        stats.boxcox(rf.loc[:, \"montant\"])\n",
    "\n",
    "    new_col = [\"costumer_dist_from_capital_lg\",\n",
    "               \"review_score\", \"payment_installments_bx\"]\n",
    "\n",
    "    rf.loc[rf['costumer_dist_from_capital'] == 0,\n",
    "           'costumer_dist_from_capital'] = 1\n",
    "\n",
    "    rf['costumer_dist_from_capital_lg'] = \\\n",
    "        np.log(rf['costumer_dist_from_capital'])\n",
    "\n",
    "    clientsPlus = (\n",
    "        rf.groupby(\"customer_unique_id\")\n",
    "        .first()[new_RFM + col + ['costumer_dist_from_capital_lg']]\n",
    "        .reset_index()\n",
    "    )\n",
    "\n",
    "    paymentGroups = (\n",
    "        clientsPlus\n",
    "        .groupby(\"customer_unique_id\")\n",
    "        [\"payment_installments\"].mean())\n",
    "\n",
    "    clientsPlus.loc[clientsPlus[\"customer_unique_id\"] == paymentGroups.index,\n",
    "                    \"payment_installments\"] = paymentGroups.values\n",
    "\n",
    "    reviewGroups = rf.groupby(\"customer_unique_id\")[\"review_score\"].mean()\n",
    "    clientsPlus.loc[clientsPlus[\"customer_unique_id\"] == reviewGroups.index,\n",
    "                    \"review_score\"] = reviewGroups.values\n",
    "\n",
    "    #  Data must not be constant for boxcox transform :\n",
    "    if len(clientsPlus['payment_installments'].unique()) != 1:\n",
    "        clientsPlus[\"payment_installments_bx\"], lmb = \\\n",
    "            stats.boxcox(clientsPlus[\"payment_installments\"])\n",
    "    else : # do not apply boxcox transform\n",
    "        clientsPlus[\"payment_installments_bx\"] = clientsPlus[\"payment_installments\"]\n",
    "\n",
    "    scaler = MinMaxScaler()  \n",
    "    clientsPlus.loc[:, new_col+new_RFM] = scaler.fit_transform(clientsPlus.loc[:, new_col+new_RFM])\n",
    "\n",
    "    clientsPlus.drop(columns=[\"payment_installments\",\"costumer_dist_from_capital\"],inplace=True)\n",
    "\n",
    "    return clientsPlus, new_col, new_RFM\n",
    "    \n",
    "%pycodestyle_on"
   ]
  },
  {
   "cell_type": "code",
   "execution_count": 9,
   "metadata": {},
   "outputs": [],
   "source": [
    "def clusteringPipeline(rf, date, date0, RFM, col):\n",
    "    currentData = pd.DataFrame()\n",
    "    currentData = rf[rf[\"date_purchase\"] <= date]\n",
    "    # print(currentData.shape)\n",
    "\n",
    "    # ***************** FEATURE ENGINEERING ***************** #\n",
    "    # ***************** Generate new variables ************** #\n",
    "    generateNewVariables(currentData, customersLocation, date0)\n",
    "\n",
    "    clientsPlus = pd.DataFrame()\n",
    "    df_pca = pd.DataFrame()\n",
    "    # ***************** apply prior transfomration  ************** #\n",
    "    clientsPlus, new_col, new_RFM = preprocessing(currentData, RFM, col)\n",
    "\n",
    "    # ***************** PCA  ************** #\n",
    "    pca = PCA(n_components=6)\n",
    "    X_trans = pca.fit_transform(clientsPlus[new_col + new_RFM])\n",
    "    df_pca = pd.DataFrame(X_trans)\n",
    "\n",
    "    # print(clientsPlus.shape)\n",
    "    # print(df_pca.shape)\n",
    "\n",
    "    kmeans = KMeans(\n",
    "        n_clusters=4,\n",
    "        init='k-means++',\n",
    "        max_iter=300,\n",
    "        random_state=42)\n",
    "\n",
    "    kmeans.fit(df_pca)\n",
    "\n",
    "    return kmeans, df_pca"
   ]
  },
  {
   "attachments": {},
   "cell_type": "markdown",
   "metadata": {},
   "source": [
    "## Main processing  :"
   ]
  },
  {
   "cell_type": "code",
   "execution_count": 13,
   "metadata": {},
   "outputs": [],
   "source": [
    "cData[\"date_purchase\"] = pd.to_datetime(cData[\"date_purchase\"])\n",
    "\n",
    "min = cData[\"date_purchase\"].min()\n",
    "print(\"min:\", min)\n",
    "max = cData[\"date_purchase\"].max()\n",
    "print(\"max:\", max)\n",
    "\n",
    "col = ['costumer_dist_from_capital', 'review_score',\n",
    "       'payment_installments']\n",
    "\n",
    "RFM = [\"recency\", \"frequency\", \"montant\"]\n",
    "\n",
    "# ************ Initial clustering *************** #\n",
    "date0 = min\n",
    "dateOfInitialClustering = date0 + pd.Timedelta(\"300 days\")  # init\n",
    "print(\"Initial clustering model trained at \", dateOfInitialClustering)\n",
    "\n",
    "initialKMeans, _ = clusteringPipeline(cData,\n",
    "                                      dateOfInitialClustering,\n",
    "                                      date0, RFM, col)\n",
    "\n",
    "# ************ Clustering update *************** #\n",
    "date = dateOfInitialClustering\n",
    "aris = []\n",
    "idx = 0\n",
    "while date < max:\n",
    "\n",
    "    kmeans, df_pca = clusteringPipeline(cData, date, date0, RFM, col)\n",
    "\n",
    "    # ********************** ARI ****************** #\n",
    "\n",
    "    kmeans.predict(df_pca)\n",
    "    current_labels = kmeans.labels_\n",
    "    inital_labels = initialKMeans.predict(df_pca)\n",
    "    ari = adjusted_rand_score(inital_labels, current_labels)\n",
    "    aris.append(ari)\n",
    "\n",
    "    print(\"Date       : \", date)\n",
    "    print(\"Data size  : \", df_pca.shape[0])\n",
    "    print(\"ARI        : \", round(ari, 3), '\\n')\n",
    "\n",
    "    date = date + pd.Timedelta(\"15 days\")"
   ]
  },
  {
   "attachments": {},
   "cell_type": "markdown",
   "metadata": {},
   "source": [
    "## Conclusion "
   ]
  },
  {
   "cell_type": "code",
   "execution_count": 16,
   "metadata": {},
   "outputs": [
    {
     "data": {
      "image/png": "[encoded data removed]",
      "text/plain": [
       "<Figure size 640x480 with 1 Axes>"
      ]
     },
     "metadata": {},
     "output_type": "display_data"
    }
   ],
   "source": [
    "x_axis_dates = [dateOfInitialClustering\n",
    "                + pd.Timedelta(\"14 days\")*i for i in range(len(aris))]\n",
    "x_axis_dates_str = [date.strftime(\"%Y-%m-%d\") for date in x_axis_dates]\n",
    "X_axis = [i for i in range(len(aris))]\n",
    "%pycodestyle_off\n",
    "for i in range(len(aris)):  # GET UPDATE INDEX\n",
    "    if aris[i] < 0.7 :\n",
    "        updateIndex = i \n",
    "        break\n",
    "%pycodestyle_on\n",
    "plt.plot(X_axis, aris)\n",
    "plt.title(\"ARI\")\n",
    "plt.axhline(y = 0.7, color = 'b', linestyle = ':')\n",
    "plt.axvline(x = updateIndex, color = 'b', linestyle = ':')\n",
    "plt.xticks(X_axis, x_axis_dates_str,rotation = 40)\n",
    "plt.show()"
   ]
  },
  {
   "cell_type": "code",
   "execution_count": 17,
   "metadata": {},
   "outputs": [
    {
     "data": {
      "text/plain": [
       "Timedelta('112 days 00:00:00')"
      ]
     },
     "execution_count": 17,
     "metadata": {},
     "output_type": "execute_result"
    }
   ],
   "source": [
    "x_axis_dates[updateIndex] - dateOfInitialClustering"
   ]
  },
  {
   "attachments": {},
   "cell_type": "markdown",
   "metadata": {},
   "source": [
    "The clustering needs to be review every 112 days, so about **every fours months**. "
   ]
  }
 ],
 "metadata": {
  "kernelspec": {
   "display_name": "Python 3",
   "language": "python",
   "name": "python3"
  },
  "language_info": {
   "codemirror_mode": {
    "name": "ipython",
    "version": 3
   },
   "file_extension": ".py",
   "mimetype": "text/x-python",
   "name": "python",
   "nbconvert_exporter": "python",
   "pygments_lexer": "ipython3",
   "version": "3.7.9"
  },
  "orig_nbformat": 4,
  "vscode": {
   "interpreter": {
    "hash": "7d513cc77343829cdb3d596229543fd54f4d1ad3b502cb91d70d2582d526394e"
   }
  }
 },
 "nbformat": 4,
 "nbformat_minor": 2
}
